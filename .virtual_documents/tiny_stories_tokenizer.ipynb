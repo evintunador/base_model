import pickle
import regex as re
import tiktoken


with open('cleaned_data.pkl', 'rb') as file:
	list_of_strings = pickle.load(file)


print(len(list_of_strings))
print(list_of_strings[0])
print(len(list_of_strings[0]))


# turn it into one string instead of a list of strings
combined_string = ''.join(list_of_strings)

# find the unique characters
chars = sorted(list(set(combined_string)))
v = len(chars)
print('\n', chars, v)
del combined_string


# create a mapping from characters to integers
stoi = { ch:i for i,ch in enumerate(chars) }
char_encode = lambda s: [stoi[c] for c in s] # encoder: take a string, output a list of integers



vocab_size = 256 # the desired final vocabulary size
num_merges = vocab_size - v


base_indices = char_encode(chars)
print(base_indices)
origin = [ "symbol" if i < 22 else "letter" for i in base_indices]  # Track token origin
print(origin)


def get_stats(ids):
    counts = {}
    for pair in zip(ids, ids[1:]): # Pythonic way to iterate consecutive elements
        counts[pair] = counts.get(pair, 0) + 1
    return counts

def merge(ids, pair, idx):
  # in the list of ints (ids), replace all consecutive occurences of pair with the new token idx
  newids = []
  i = 0
  while i < len(ids):
    # if we are not at the very last position AND the pair matches, replace it
    if i < len(ids) - 1 and ids[i] == pair[0] and ids[i+1] == pair[1]:
      newids.append(idx)
      i += 2
    else:
      newids.append(ids[i])
      i += 1
  return newids


# turning a usable subset of the data into one string
combined_string = ''.join(list_of_strings[:1000])
tokens = char_encode(combined_string)
ids = list(tokens) # copy so we don't destroy the original list

# now let's actually do it
merges = {} # (int, int) -> int
for i in range(num_merges):
    #print(i)
    stats = get_stats(ids)

    # Modified pair selection logic:
    while True:
        pair = max(stats, key=stats.get)  # Get the most frequent pair initially
        #print(pair)

        if origin[pair[0]] != origin[pair[1]]: # Check if origins differ
            #print(origin[pair[0]],origin[pair[1]],origin[pair[0]] != origin[pair[1]])
            del stats[pair]
        else:  # If no valid pairs left, break out of the loop
            #print(origin[pair[0]],origin[pair[1]],origin[pair[0]] != origin[pair[1]])
            break
    else:
        break  # Valid pair found 
    
    pair = max(stats, key=stats.get)
    #print(pair)

    idx = v + i
    print(f"merging {pair} into a new token {idx}")
    ids = merge(ids, pair, idx)
    merges[pair] = idx
    origin.append(origin[pair[0]])


print("tokens length:", len(tokens)) # remember tokens are our original tokens
print("ids length:", len(ids)) # and ids are new tokens we've made
print(f"compression ratio: {len(tokens) / len(ids):.2f}X")


import pickle
import os

# Ensure the tokenizers directory exists
if not os.path.exists('./tokenizers'):
    os.makedirs('./tokenizers')

# Prepare the tokenizer data to be saved
tokenizer_data = {
    'stoi': stoi,  # Character to integer mapping
    'merges': merges  # Merges dictionary
}

# Save the tokenizer data using pickle
with open(f'./tokenizers/tiny_stories_tokenizer_{vocab_size}.model', 'wb') as f:
    pickle.dump(tokenizer_data, f)

print("Tokenizer saved successfully.")


# Load the tokenizer data using pickle
with open(f'./tokenizers/tiny_stories_tokenizer_{vocab_size}.model', 'rb') as f:
    loaded_tokenizer_data = pickle.load(f)

# Extract the stoi mapping and merges from the loaded data
loaded_stoi = loaded_tokenizer_data['stoi']
loaded_merges = loaded_tokenizer_data['merges']

print("Tokenizer loaded successfully.")


print(stoi)
print(merges)


class SimpleTokenizer:
    def __init__(self, stoi, merges):
        self.stoi = stoi
        self.merges = merges
        self.itos = {i: s for s, i in stoi.items()}  # Inverse mapping for decoding

        self.vocab_len = len(stoi) + len(merges)

    def encode(self, text):
        # Convert the text to a list of token IDs, using space for unknown characters
        tokens = [self.stoi.get(c, self.stoi[' ']) for c in text]

        # Perform merging with the possibility of nested merges
        i = 0
        while i < len(tokens) - 1:
            pair = (tokens[i], tokens[i + 1])
            if pair in self.merges:
                # Replace the current pair with its merged token
                merged_token = self.merges[pair]
                tokens[i] = merged_token
                del tokens[i + 1]

                # Move back to handle possible nested merges
                if i > 0:
                    i -= 1
            else:
                i += 1

        return tokens

    def decode(self, tokens):
        def expand_token(token):
            # Base case: if the token is a direct mapping, return its character
            if token in self.itos:
                return self.itos[token]
            # Recursive case: if the token is a merged token, expand its constituents
            elif token in self.merges.values():
                pair = next(key for key, value in self.merges.items() if value == token)
                return ''.join(expand_token(t) for t in pair)
            # Fallback for unknown tokens
            else:
                return ''

        # Decode each token in the list, handling nested merges recursively
        return ''.join(expand_token(token) for token in tokens)

# Example usage
# Assuming loaded_stoi and loaded_merges are already loaded from the tokenizer.model file

tokenizer = SimpleTokenizer(loaded_stoi, loaded_merges)

# Encoding text
encoded_text = tokenizer.encode("JULIET:\nO Romeo, Romeo! wherefore art thou R")
print("Encoded:", encoded_text)

# Decoding back
decoded_text = tokenizer.decode(encoded_text)
print("Decoded:", decoded_text)


for i in range(128):
    print(f"{i}: '{tokenizer.decode([i])}'")



