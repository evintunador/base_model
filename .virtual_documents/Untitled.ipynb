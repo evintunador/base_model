import pickle
import regex as re
import tiktoken


with open('cleaned_data.pkl', 'rb') as file:
	data_strings = pickle.load(file)


print(len(data_strings))
print(data_strings[0])
print(len(data_strings[0]))


# turn it into one string instead of a list of strings
combined_string = ''.join(data_strings)

# find the unique characters
chars = sorted(list(set(combined_string)))
v = len(chars)
print('\n', chars, v)


def get_stats(ids):
    counts = {}
    for pair in zip(ids, ids[1:]): # Pythonic way to iterate consecutive elements
        counts[pair] = counts.get(pair, 0) + 1
    return counts

def merge(ids, pair, idx):
  # in the list of ints (ids), replace all consecutive occurences of pair with the new token idx
  newids = []
  i = 0
  while i < len(ids):
    # if we are not at the very last position AND the pair matches, replace it
    if i < len(ids) - 1 and ids[i] == pair[0] and ids[i+1] == pair[1]:
      newids.append(idx)
      i += 2
    else:
      newids.append(ids[i])
      i += 1
  return newids


# create a mapping from characters to integers
stoi = { ch:i for i,ch in enumerate(chars) }
char_encode = lambda s: [stoi[c] for c in s] # encoder: take a string, output a list of integers

tokens = char_encode(combined_string)


vocab_size = 1024 # the desired final vocabulary size
num_merges = vocab_size - v
ids = list(tokens) # copy so we don't destroy the original list


base_indices = char_encode(chars)
print(base_indices)
origin = [ "symbol" if i < 13 else "letter" for i in base_indices]  # Track token origin
print(origin)



