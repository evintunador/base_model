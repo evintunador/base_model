{
 "cells": [
  {
   "cell_type": "markdown",
   "id": "d1c5c401-d5b6-48a4-98b4-d649e94cb427",
   "metadata": {},
   "source": [
    "# NOT CURRENTLY FUNCTIONAL; STILL IN PLANNING STAGE\n",
    "ik it's exciting but this is like the last thing on my major TODO list"
   ]
  },
  {
   "cell_type": "code",
   "execution_count": 1,
   "id": "9ecb5ae5-d438-4d68-b1a0-f9e9f5a60bf4",
   "metadata": {},
   "outputs": [],
   "source": [
    "# my virtual environments are rarely properly connected to jupyter so this fixes that. \n",
    "# you won't need this cell but running it won't hurt anything either\n",
    "import sys\n",
    "import os\n",
    "current_dir = os.getcwd()  # Get the current working directory\n",
    "venv_dir = os.path.join(current_dir, './venv') \n",
    "python_version = str(sys.version_info.major) + '.' + str(sys.version_info.minor)\n",
    "site_packages_path = os.path.join(venv_dir, 'lib', 'python' + python_version, 'site-packages')\n",
    "sys.path.append(site_packages_path) "
   ]
  },
  {
   "cell_type": "code",
   "execution_count": 2,
   "id": "4348fd8a-3904-43ff-ad8f-7ed7a9fa608e",
   "metadata": {},
   "outputs": [
    {
     "name": "stdout",
     "output_type": "stream",
     "text": [
      "HyperParameterSearchConfig()\n"
     ]
    }
   ],
   "source": [
    "# print current config file\n",
    "from config import HyperParameterSearchConfig\n",
    "hscfg = HyperParameterSearchConfig()\n",
    "print(hscfg)"
   ]
  },
  {
   "cell_type": "markdown",
   "id": "2f034539-eda1-4693-a77c-2ac1101c2236",
   "metadata": {},
   "source": [
    "why tf is this shit not printing?"
   ]
  },
  {
   "cell_type": "code",
   "execution_count": null,
   "id": "d8ebf871-4844-4bac-90ce-353e9fa16590",
   "metadata": {},
   "outputs": [],
   "source": []
  }
 ],
 "metadata": {
  "kernelspec": {
   "display_name": "Python 3 (ipykernel)",
   "language": "python",
   "name": "python3"
  },
  "language_info": {
   "codemirror_mode": {
    "name": "ipython",
    "version": 3
   },
   "file_extension": ".py",
   "mimetype": "text/x-python",
   "name": "python",
   "nbconvert_exporter": "python",
   "pygments_lexer": "ipython3",
   "version": "3.11.5"
  }
 },
 "nbformat": 4,
 "nbformat_minor": 5
}
