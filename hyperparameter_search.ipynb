{
 "cells": [
  {
   "cell_type": "markdown",
   "id": "d1c5c401-d5b6-48a4-98b4-d649e94cb427",
   "metadata": {},
   "source": [
    "# Setup"
   ]
  },
  {
   "cell_type": "code",
   "execution_count": 1,
   "id": "9ecb5ae5-d438-4d68-b1a0-f9e9f5a60bf4",
   "metadata": {},
   "outputs": [],
   "source": [
    "# my virtual environments are rarely properly connected to jupyter so this fixes that. \n",
    "# you won't need this cell but running it won't hurt anything either\n",
    "import sys\n",
    "import os\n",
    "current_dir = os.getcwd()  # Get the current working directory\n",
    "venv_dir = os.path.join(current_dir, './venv') \n",
    "python_version = str(sys.version_info.major) + '.' + str(sys.version_info.minor)\n",
    "site_packages_path = os.path.join(venv_dir, 'lib', 'python' + python_version, 'site-packages')\n",
    "sys.path.append(site_packages_path) "
   ]
  },
  {
   "cell_type": "code",
   "execution_count": 2,
   "id": "4348fd8a-3904-43ff-ad8f-7ed7a9fa608e",
   "metadata": {},
   "outputs": [
    {
     "name": "stdout",
     "output_type": "stream",
     "text": [
      "ModelConfig(\n",
      "dim=64\n",
      "vocab_len=None\n",
      "device=cpu\n",
      "dropout_rate=0.1\n",
      "\n",
      "num_layers=2\n",
      "pre_connect_dropout=True\n",
      "second_resid_norm=False\n",
      "\n",
      "mlp_hidden_mult=2\n",
      "mlp_bias=False\n",
      "mlp_nonlinearity=GeLU\n",
      "mlp_gated=True\n",
      "\n",
      "num_q_heads=4\n",
      "num_kv_heads=1\n",
      "=head_dim16\n",
      "theta=10000\n",
      "max_seq_len=512\n",
      "\n",
      "scale_first_resid=True\n",
      "norm_type=RMSNorm\n",
      "norm_affine=True\n",
      "norm_bias=True\n",
      "eps=1e-06\n",
      "\n",
      "max_batch_size=1\n",
      ") \n",
      "\n",
      " TrainConfig(\n",
      "model_name=2024-04-26|22-26-26\n",
      "\n",
      "weight_decay=0.02\n",
      "batch_size=32\n",
      "\n",
      "max_iters=10\n",
      "eval_interval=5\n",
      "eval_samples=3\n",
      "checkpoint_interval=5\n",
      "\n",
      "lr_max=0.01\n",
      "lr_min=1e-05\n",
      "\n",
      "warmup_iters=1\n",
      "final_flat_iters=2\n",
      "\n",
      "anneal_type=cos\n",
      "num_restarts=0\n",
      "T_mult=2\n",
      ")\n"
     ]
    }
   ],
   "source": [
    "# print current config file\n",
    "from config import ModelConfig, TrainConfig, HyperparameterSearchConfig\n",
    "cfg = ModelConfig()\n",
    "tcfg = TrainConfig()\n",
    "print(repr(cfg), '\\n\\n', repr(tcfg))"
   ]
  },
  {
   "cell_type": "code",
   "execution_count": null,
   "id": "df472a99-b212-4922-99a9-3c813c7cee79",
   "metadata": {},
   "outputs": [],
   "source": []
  }
 ],
 "metadata": {
  "kernelspec": {
   "display_name": "Python 3 (ipykernel)",
   "language": "python",
   "name": "python3"
  },
  "language_info": {
   "codemirror_mode": {
    "name": "ipython",
    "version": 3
   },
   "file_extension": ".py",
   "mimetype": "text/x-python",
   "name": "python",
   "nbconvert_exporter": "python",
   "pygments_lexer": "ipython3",
   "version": "3.11.5"
  }
 },
 "nbformat": 4,
 "nbformat_minor": 5
}
