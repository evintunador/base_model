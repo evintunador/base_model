{
 "cells": [
  {
   "cell_type": "markdown",
   "id": "9c886b25-6c50-4f65-ac3d-b443b4da14ad",
   "metadata": {},
   "source": [
    "so the goal here is to figure out how to dynamically import functions and classes from different models within the sandbox"
   ]
  },
  {
   "cell_type": "code",
   "execution_count": 1,
   "id": "dc18d51d-b302-45f8-8333-d477811a4db0",
   "metadata": {},
   "outputs": [],
   "source": [
    "import importlib\n",
    "def import_from_nested_path(folders, file, items):\n",
    "    try:\n",
    "        # Construct the module path from a list of folders\n",
    "        module_path = \".\".join(folders) + \".\" + file\n",
    "        \n",
    "        # Dynamically import the module\n",
    "        module = importlib.import_module(module_path)\n",
    "        \n",
    "        # Extract specific items (functions, classes, etc.)\n",
    "        imported_items = {}\n",
    "        for item in items:\n",
    "            if hasattr(module, item):\n",
    "                imported_items[item] = getattr(module, item)\n",
    "            else:\n",
    "                print(f\"{item} is not available in {module_path}\")\n",
    "        return imported_items\n",
    "                \n",
    "    except ImportError as e:\n",
    "        print(f\"Failed to import module: {e}\")"
   ]
  },
  {
   "cell_type": "code",
   "execution_count": null,
   "id": "6a7fc9e9-887c-43b8-91cd-b027f40fb7a1",
   "metadata": {},
   "outputs": [],
   "source": [
    "imported_objects = import_from_nested_path(['models', 'customGPT'], 'inference', ['generate'])\n",
    "generate = imported_objects.get('generate')"
   ]
  },
  {
   "cell_type": "code",
   "execution_count": null,
   "id": "69b70c63-1a5d-4a5f-bee5-47e749c242e3",
   "metadata": {},
   "outputs": [],
   "source": []
  }
 ],
 "metadata": {
  "kernelspec": {
   "display_name": "Python 3 (ipykernel)",
   "language": "python",
   "name": "python3"
  },
  "language_info": {
   "codemirror_mode": {
    "name": "ipython",
    "version": 3
   },
   "file_extension": ".py",
   "mimetype": "text/x-python",
   "name": "python",
   "nbconvert_exporter": "python",
   "pygments_lexer": "ipython3",
   "version": "3.11.5"
  }
 },
 "nbformat": 4,
 "nbformat_minor": 5
}
