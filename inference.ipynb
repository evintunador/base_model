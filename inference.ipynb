{
 "cells": [
  {
   "cell_type": "code",
   "execution_count": 1,
   "id": "5c8178ba-2ea0-4f4f-b9ca-c3435a83bd97",
   "metadata": {},
   "outputs": [],
   "source": [
    "# my virtual environments are rarely properly connected to jupyter so this fixes that. \n",
    "# you won't need this cell but running it won't hurt anything either\n",
    "import sys\n",
    "import os\n",
    "current_dir = os.getcwd()  # Get the current working directory\n",
    "venv_dir = os.path.join(current_dir, '../venv') \n",
    "python_version = str(sys.version_info.major) + '.' + str(sys.version_info.minor)\n",
    "site_packages_path = os.path.join(venv_dir, 'lib', 'python' + python_version, 'site-packages')\n",
    "sys.path.append(site_packages_path) "
   ]
  },
  {
   "cell_type": "code",
   "execution_count": 2,
   "id": "8eae0015-a5c6-493e-832a-0cfcb0ef128c",
   "metadata": {},
   "outputs": [
    {
     "name": "stdout",
     "output_type": "stream",
     "text": [
      "Config(dim=128, vocab_len=512, device='cpu', num_layers=10, pre_connect_dropout=False, second_resid_norm=False, mlp_hidden_mult=2, mlp_bias=False, mlp_nonlinearity='GeLU', mlp_gated=True, num_q_heads=4, num_kv_heads=1, theta=10000, max_seq_len=512, scale_first_resid=True, norm_type='RMSNorm', norm_affine=True, norm_bias=True, eps=1e-06, max_batch_size=1)\n"
     ]
    }
   ],
   "source": [
    "# used to save & load models\n",
    "import json\n",
    "from dataclasses import asdict\n",
    "\n",
    "# tokenizer\n",
    "sys.path.append(\"..\")  # Adds the parent directory to the path so we can see the tokenizer\n",
    "from tokenizer_TinyStories import *\n",
    "size = 512 # size options are 128, 256, 512 and 1024\n",
    "path = f'../tokenizers/tiny_stories_tokenizer_{size}.model'\n",
    "tokenizer = get_tokenizer(path) \n",
    "\n",
    "# config file\n",
    "from config import *\n",
    "cfg = Config()\n",
    "cfg.vocab_len = tokenizer.vocab_len\n",
    "print(cfg)\n",
    "\n",
    "# model modules\n",
    "from model import *\n",
    "\n",
    "# inference code\n",
    "from inference import *\n",
    "\n",
    "# used to save & load models\n",
    "import json\n",
    "from dataclasses import asdict"
   ]
  },
  {
   "cell_type": "markdown",
   "id": "0918a651-5c6a-4a39-8b3e-a28259e4fd64",
   "metadata": {},
   "source": [
    "# Load a Pretrained Model"
   ]
  },
  {
   "cell_type": "code",
   "execution_count": 31,
   "id": "39c0ba50-83de-4ad7-b262-944e6d547ae9",
   "metadata": {},
   "outputs": [
    {
     "name": "stdout",
     "output_type": "stream",
     "text": [
      "2985.088 K parameters\n"
     ]
    },
    {
     "data": {
      "text/plain": [
       "Llama3(\n",
       "  (tok_embeddings): Embedding(512, 128)\n",
       "  (layers): ModuleList(\n",
       "    (0-11): 12 x TransformerBlock(\n",
       "      (attention): Attention(\n",
       "        (wq): Linear(in_features=128, out_features=128, bias=False)\n",
       "        (wk): Linear(in_features=128, out_features=32, bias=False)\n",
       "        (wv): Linear(in_features=128, out_features=32, bias=False)\n",
       "        (wo): Linear(in_features=128, out_features=128, bias=False)\n",
       "      )\n",
       "      (feed_forward): FeedForward(\n",
       "        (w1): Linear(in_features=128, out_features=512, bias=False)\n",
       "        (w2): Linear(in_features=512, out_features=128, bias=False)\n",
       "        (w3): Linear(in_features=128, out_features=512, bias=False)\n",
       "      )\n",
       "      (attention_norm): RMSNorm()\n",
       "      (ffn_norm): RMSNorm()\n",
       "    )\n",
       "  )\n",
       "  (norm): RMSNorm()\n",
       "  (output): Linear(in_features=128, out_features=512, bias=False)\n",
       "  (criterion): CrossEntropyLoss()\n",
       ")"
      ]
     },
     "execution_count": 31,
     "metadata": {},
     "output_type": "execute_result"
    }
   ],
   "source": [
    "# pretrained model options:\n",
    "# - \n",
    "name = ''\n",
    "\n",
    "# Deserialize the JSON file back to a dictionary\n",
    "with open(f'models/{name}.json', 'r') as f:\n",
    "    config_dict = json.load(f)\n",
    "\n",
    "# Convert the dictionary back to a dataclass object\n",
    "cfg = Config(**config_dict)\n",
    "cfg.device = 'cuda' if torch.cuda.is_available() else 'cpu'\n",
    "\n",
    "# Initialize a blank model\n",
    "model = customGPT(cfg).to(cfg.device)  \n",
    "\n",
    "# here's the path to a minGemma model that i've trained with roughly 1m parameters\n",
    "path = f'models/{name}.pth'\n",
    "\n",
    "# Load the saved state dictionary\n",
    "model.load_state_dict(torch.load(path)) \n",
    "# REMEMBER TO CHANGE VALUES IN params TO MATCH THE MODEL YOU'VE LOADED\n",
    "\n",
    "# print the number of parameters in the model\n",
    "print(sum(p.numel() for p in model.parameters())/1e3, 'K parameters')\n",
    "\n",
    "# If you only plan to do inference, switch to evaluation mode\n",
    "model.eval()"
   ]
  },
  {
   "cell_type": "markdown",
   "id": "9a8b54e1-9cfe-4459-8553-d52ad794b633",
   "metadata": {},
   "source": [
    "# temporarily use this for testing until I have a model trained"
   ]
  },
  {
   "cell_type": "code",
   "execution_count": 3,
   "id": "15b3a8aa-67cc-4566-b8b7-ab852ba82680",
   "metadata": {},
   "outputs": [
    {
     "name": "stdout",
     "output_type": "stream",
     "text": [
      "1463.552 K parameters\n",
      "customGPT(\n",
      "  (token_embedder): Embedding(512, 128)\n",
      "  (layers): ModuleList(\n",
      "    (0-9): 10 x ResidualLayer(\n",
      "      (pre_attn_norm): Norm()\n",
      "      (attn): MQSA(\n",
      "        (Wq): Linear(in_features=128, out_features=128, bias=False)\n",
      "        (Wk): Linear(in_features=128, out_features=32, bias=False)\n",
      "        (Wv): Linear(in_features=128, out_features=32, bias=False)\n",
      "        (Wo): Linear(in_features=128, out_features=128, bias=False)\n",
      "      )\n",
      "      (pre_mlp_norm): Norm()\n",
      "      (mlp): MLP(\n",
      "        (Wgate): Linear(in_features=128, out_features=256, bias=False)\n",
      "        (Wup): Linear(in_features=128, out_features=256, bias=False)\n",
      "        (Wdown): Linear(in_features=256, out_features=128, bias=False)\n",
      "        (nonlinearity): GELU(approximate='none')\n",
      "      )\n",
      "    )\n",
      "  )\n",
      "  (final_norm): Norm()\n",
      "  (criterion): CrossEntropyLoss()\n",
      ")\n"
     ]
    }
   ],
   "source": [
    "model = customGPT(cfg, tokenizer).to(cfg.device)\n",
    "\n",
    "# print the number of parameters in the model\n",
    "print(sum(p.numel() for p in model.parameters())/1e3, 'K parameters')\n",
    "\n",
    "print(model)"
   ]
  },
  {
   "cell_type": "markdown",
   "id": "8c971fce-8b3e-4732-bd66-d5d2028025d6",
   "metadata": {},
   "source": [
    "# Inference"
   ]
  },
  {
   "cell_type": "code",
   "execution_count": 4,
   "id": "3af2d78a-1d5b-42eb-85ad-0e486deb314a",
   "metadata": {},
   "outputs": [
    {
     "name": "stdout",
     "output_type": "stream",
     "text": [
      "Hello, world!!!!!!\n"
     ]
    }
   ],
   "source": [
    "example_prompt = \"Hello, world!\"\n",
    "generated_text = generate(\n",
    "    example_prompt, \n",
    "    model, \n",
    "    tokenizer,\n",
    "    max_gen_len = 5,\n",
    "    temperature = 20.,\n",
    ")\n",
    "print(generated_text)"
   ]
  },
  {
   "cell_type": "code",
   "execution_count": 6,
   "id": "2ff56cce-bf34-4dbf-9feb-ff8daccf3f8b",
   "metadata": {},
   "outputs": [
    {
     "name": "stdout",
     "output_type": "stream",
     "text": [
      "maximum attention matrix size in memory will be 32x512 rather than 512x512\n",
      "\n",
      "Hello, world!!!!!!UUdogmmmmmmmmmssfastpotpotpotpotpotpotpot!\"    birdbirdbirdbirdforforforpotpotfveryveryverybestbestcccickccli\" \" getherdeureureureureureureureureureheheheomomknowknow0bugbugld5HHHMM\n",
      "\n",
      "\n",
      "\n",
      "YeslikedlikedlikedlikedlikedlikedlikedlikedhedAAmairirithithithwhotogetherLucyTimhenhenhenhenhenhenpecpecpecpecpecpecpecpeclivedlivedlivedkingkingumpave5startedstartedstartedasasasustustbothbothbothourourkllededcanjjscarscarscarscarcamecamecamecamecamecamecameououanyanyanyanybackbackbackouriled\"\n",
      "\"\n",
      "wwnamedreucexcitedexcitedexcitedexcitedexcitedooowaterpotpotpotightightfloflofloflofloflofloSheplayinginryYoutbackTim????iriririririririririririr\"TheyTheyTheyTheykind---girlgirlgirlgirlututgirmakearVVVVZthatthatch.\n",
      ".\n",
      ".\n",
      ".\n",
      ".\n",
      ".\n",
      "asasassmsmsmShesomethingOneSamSamSamSambl::::::ranranranyouyouteknowknowknowknowknowknowknowknowknowkekekekesawriedherehereakeakeclymoremoremorebecauseqqqqqqiteiteiteiteiteitethat!!!!!cccccccthatthatthatTheydededeBenBenJJJdodododoilyilyweresunsunardardtetetetetethththdecdecdecdecdecdecdecdecdecdecdecdecballshesheD. \n",
      "excexclookedwwgoodgoodgoodgoodgoodgoodgoodgethergethergetherupweyyyinLily00tootootootootootootootootooiaiaGGGlovedalalalbbdowndownTheTheTheTheTheillillnynynycecececececeJnotLucLucSpotdodoforforformudlonglongatattimetimeididfloflovedFterterjumpthatthat55mmmmfterfterfterfterfterfterfterfterfterfterfterfterfterfterfterfterfterfterfterfterfterfterfterdecdecilediled\n"
     ]
    }
   ],
   "source": [
    "example_prompt = \"Hello, world!\"\n",
    "generated_text = generate(\n",
    "    example_prompt, \n",
    "    model, \n",
    "    tokenizer,\n",
    "    memory_saver_div = 16,\n",
    "    temperature = 20.,\n",
    ")\n",
    "print(generated_text)"
   ]
  },
  {
   "cell_type": "code",
   "execution_count": null,
   "id": "458182c1-1d56-4d8f-8a38-9ae50827cc6c",
   "metadata": {},
   "outputs": [],
   "source": []
  }
 ],
 "metadata": {
  "kernelspec": {
   "display_name": "Python 3 (ipykernel)",
   "language": "python",
   "name": "python3"
  },
  "language_info": {
   "codemirror_mode": {
    "name": "ipython",
    "version": 3
   },
   "file_extension": ".py",
   "mimetype": "text/x-python",
   "name": "python",
   "nbconvert_exporter": "python",
   "pygments_lexer": "ipython3",
   "version": "3.10.12"
  }
 },
 "nbformat": 4,
 "nbformat_minor": 5
}
